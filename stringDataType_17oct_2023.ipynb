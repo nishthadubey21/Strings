{
 "cells": [
  {
   "cell_type": "markdown",
   "id": "4c90db15",
   "metadata": {},
   "source": [
    "## Strings\n",
    "\n",
    "\n",
    "   * strings are sequence of chars, enclosed in quotes(single, double, triple-double quotes)\n",
    "   * triple quotes are used as multiline strings, multiline comments and doc strings."
   ]
  },
  {
   "cell_type": "markdown",
   "id": "f5ee29b0",
   "metadata": {},
   "source": [
    "### Creating a string \n",
    "#### Escape char"
   ]
  },
  {
   "cell_type": "code",
   "execution_count": 2,
   "id": "9c30ac84",
   "metadata": {},
   "outputs": [
    {
     "name": "stdout",
     "output_type": "stream",
     "text": [
      "this is a string, enclosed in single quotes/nthis is a string, enclosed in double quotes/nthis is a multi-string, \n",
      "enclosed in triple single quotes \n"
     ]
    },
    {
     "data": {
      "text/plain": [
       "'this is an informative\\n   multiline comment, \\n   enclosed in triple double quotes'"
      ]
     },
     "execution_count": 2,
     "metadata": {},
     "output_type": "execute_result"
    }
   ],
   "source": [
    "s1='this is a string, enclosed in single quotes'\n",
    "s2=\"this is a string, enclosed in double quotes\"\n",
    "s3='''this is a multi-string, \n",
    "enclosed in triple single quotes '''\n",
    "print(s1, s2, s3, sep='/n')\n",
    "\"\"\"this is an informative\n",
    "   multiline comment, \n",
    "   enclosed in triple double quotes\"\"\""
   ]
  },
  {
   "cell_type": "code",
   "execution_count": 9,
   "id": "e16a0e5a",
   "metadata": {},
   "outputs": [
    {
     "name": "stdout",
     "output_type": "stream",
     "text": [
      "this cup now belong's to India\n"
     ]
    },
    {
     "data": {
      "text/plain": [
       "\"this cup now belong's to India\""
      ]
     },
     "execution_count": 9,
     "metadata": {},
     "output_type": "execute_result"
    }
   ],
   "source": [
    "a=\"this cup now belong's to India\"\n",
    "print(a)\n",
    "a='this cup now belong\\'s to India' #escape char\n",
    "a"
   ]
  },
  {
   "cell_type": "code",
   "execution_count": 7,
   "id": "45a075b1",
   "metadata": {},
   "outputs": [
    {
     "name": "stdout",
     "output_type": "stream",
     "text": [
      "a\n",
      "b\n",
      "a\tb\n",
      "a b\r",
      "c d\n"
     ]
    }
   ],
   "source": [
    "print('a\\nb') #next line\n",
    "print('a\\tb') #tab distance\n",
    "print('a b\\rc d') #begins writting from the start"
   ]
  },
  {
   "cell_type": "markdown",
   "id": "ac9f791f",
   "metadata": {},
   "source": [
    "### Raw-string and f-strings"
   ]
  },
  {
   "cell_type": "code",
   "execution_count": 8,
   "id": "db043a59",
   "metadata": {},
   "outputs": [
    {
     "name": "stdout",
     "output_type": "stream",
     "text": [
      "c:\u0007bc\n",
      "ewfolder\\j.jpg\n",
      "c:\\abc\\newfolder\\j.jpg\n",
      "c:\\abc\\newfolder\\j.jpg\n"
     ]
    }
   ],
   "source": [
    "print('c:\\abc\\newfolder\\j.jpg') # considers \\ as \\n\n",
    "print('c:\\\\abc\\\\newfolder\\\\j.jpg') # adding \\ prints the string same\n",
    "print(r'c:\\abc\\newfolder\\j.jpg') #adding r prints the string as it is # r string"
   ]
  },
  {
   "cell_type": "code",
   "execution_count": 9,
   "id": "954da0d8",
   "metadata": {},
   "outputs": [
    {
     "name": "stdout",
     "output_type": "stream",
     "text": [
      "the volume of a cyl, whose radius is 5 whose h is 7 is 550.0\n",
      "the vol of cyl whose r and h are 5 and 7 respectively is 550.0\n"
     ]
    }
   ],
   "source": [
    "r,h=5,7\n",
    "vol = (22/7)*(r**2)*h\n",
    "print('the volume of a cyl, whose radius is', r, 'whose h is', h, 'is',vol)\n",
    "print(f'the vol of cyl whose r and h are {r} and {h} respectively is {vol}') #f string"
   ]
  },
  {
   "cell_type": "code",
   "execution_count": 16,
   "id": "7a50667c",
   "metadata": {},
   "outputs": [
    {
     "name": "stdout",
     "output_type": "stream",
     "text": [
      "the vol of sphere whose d is 10 is 523.81\n"
     ]
    }
   ],
   "source": [
    "d=10\n",
    "vol = (4/3)*(22/7)*(d/2)**3\n",
    "print(f'the vol of sphere whose d is {d} is {round(vol,2)}')"
   ]
  },
  {
   "cell_type": "markdown",
   "id": "6e6943e4",
   "metadata": {},
   "source": [
    "### Strings can be indexed"
   ]
  },
  {
   "cell_type": "code",
   "execution_count": 13,
   "id": "88f15645",
   "metadata": {},
   "outputs": [
    {
     "name": "stdout",
     "output_type": "stream",
     "text": [
      "h\n"
     ]
    }
   ],
   "source": [
    "x= 'Python'\n",
    "print(x[3]) #accessing 'h'"
   ]
  },
  {
   "cell_type": "code",
   "execution_count": 15,
   "id": "e5c4f2e3",
   "metadata": {},
   "outputs": [
    {
     "name": "stdout",
     "output_type": "stream",
     "text": [
      "t\n"
     ]
    }
   ],
   "source": [
    "print(x[-4]) #accessing 't' by reverse accessing"
   ]
  },
  {
   "cell_type": "markdown",
   "id": "c34bc0a8",
   "metadata": {},
   "source": [
    "* In positive indexing, we from left to right and start index is '0' and the end index is 'n-1', where n is the length of string.\n",
    "* In negative indexing, we from right to left and start index is '-1' and the end index is '-n', where n is the length of string."
   ]
  },
  {
   "cell_type": "markdown",
   "id": "4dd32304",
   "metadata": {},
   "source": [
    "### Slicing"
   ]
  },
  {
   "cell_type": "code",
   "execution_count": 19,
   "id": "83234a01",
   "metadata": {},
   "outputs": [
    {
     "name": "stdout",
     "output_type": "stream",
     "text": [
      "40\n",
      "I am not sure\n",
      "I am not sure what to take as an example\n",
      "Ia o uewa otk sa xml\n",
      "I am not sure what to take as an example\n",
      "I am not sure what to take as an example\n",
      "what\n"
     ]
    }
   ],
   "source": [
    "x='I am not sure what to take as an example'\n",
    "print(len(x))\n",
    "print(x[0:13]) #string from 0 to 13 index\n",
    "print(x[0:41]) #string from 0 to 41th index\n",
    "print(x[0:41:2]) #jumping one step from 0 to 40th index\n",
    "print(x[0:41:1]) #counting each step from 0 to 40\n",
    "print(x[::]) #default value whatever is given\n",
    "print(x[14:18]) #printing what by slicing"
   ]
  },
  {
   "cell_type": "code",
   "execution_count": 26,
   "id": "31089c66",
   "metadata": {},
   "outputs": [
    {
     "name": "stdout",
     "output_type": "stream",
     "text": [
      "python\n",
      "nohtyp\n",
      "nohtyp\n",
      "ohtyp\n",
      "nohty\n",
      "\n",
      "\n"
     ]
    }
   ],
   "source": [
    "x= 'python'\n",
    "print(x)\n",
    "print(x[::-1]) #reverse string\n",
    "print(x[-1:-7:-1]) #indexing starts from rhs if we put '-'\n",
    "# sign determines the direction from which side you move. no sign is '+' \n",
    "print(x[4::-1]) #reverse string with positive indexing \n",
    "print(x[5:0:-1])\n",
    "print(x[0:6:-1]) #empty string\n",
    "print(x[-2:-6])"
   ]
  },
  {
   "cell_type": "code",
   "execution_count": 35,
   "id": "b3b45b77",
   "metadata": {},
   "outputs": [
    {
     "data": {
      "text/plain": [
       "'innominds'"
      ]
     },
     "execution_count": 35,
     "metadata": {},
     "output_type": "execute_result"
    }
   ],
   "source": [
    "a,b='inno','minds'\n",
    "c=a+b #concatination\n",
    "c"
   ]
  },
  {
   "cell_type": "code",
   "execution_count": 30,
   "id": "eabe52b2",
   "metadata": {},
   "outputs": [
    {
     "data": {
      "text/plain": [
       "'innomindsinnomindsinnominds'"
      ]
     },
     "execution_count": 30,
     "metadata": {},
     "output_type": "execute_result"
    }
   ],
   "source": [
    "c*3 #c+c+c"
   ]
  },
  {
   "cell_type": "code",
   "execution_count": 32,
   "id": "99c574e4",
   "metadata": {},
   "outputs": [],
   "source": [
    "c*=3"
   ]
  },
  {
   "cell_type": "code",
   "execution_count": 10,
   "id": "04f8bf74",
   "metadata": {},
   "outputs": [
    {
     "data": {
      "text/plain": [
       "65"
      ]
     },
     "execution_count": 10,
     "metadata": {},
     "output_type": "execute_result"
    }
   ],
   "source": [
    "ord('A') #ascii value of char"
   ]
  },
  {
   "cell_type": "code",
   "execution_count": 11,
   "id": "b1d8c826",
   "metadata": {},
   "outputs": [
    {
     "data": {
      "text/plain": [
       "97"
      ]
     },
     "execution_count": 11,
     "metadata": {},
     "output_type": "execute_result"
    }
   ],
   "source": [
    "ord('a')"
   ]
  },
  {
   "cell_type": "code",
   "execution_count": 12,
   "id": "b10f29fc",
   "metadata": {},
   "outputs": [
    {
     "data": {
      "text/plain": [
       "122"
      ]
     },
     "execution_count": 12,
     "metadata": {},
     "output_type": "execute_result"
    }
   ],
   "source": [
    "ord('z')"
   ]
  },
  {
   "cell_type": "code",
   "execution_count": 22,
   "id": "a0484a91",
   "metadata": {},
   "outputs": [
    {
     "data": {
      "text/plain": [
       "90"
      ]
     },
     "execution_count": 22,
     "metadata": {},
     "output_type": "execute_result"
    }
   ],
   "source": [
    "ord('Z')"
   ]
  },
  {
   "cell_type": "markdown",
   "id": "f6360b7b",
   "metadata": {},
   "source": [
    "## 18oct_2023"
   ]
  },
  {
   "cell_type": "code",
   "execution_count": 18,
   "id": "d859bd9f",
   "metadata": {},
   "outputs": [
    {
     "name": "stdout",
     "output_type": "stream",
     "text": [
      "python <class 'str'>\n"
     ]
    }
   ],
   "source": [
    "x='python'\n",
    "print(x, type(x))"
   ]
  },
  {
   "cell_type": "code",
   "execution_count": 20,
   "id": "20d0fdf4",
   "metadata": {},
   "outputs": [
    {
     "name": "stdout",
     "output_type": "stream",
     "text": [
      "['__add__', '__class__', '__contains__', '__delattr__', '__dir__', '__doc__', '__eq__', '__format__', '__ge__', '__getattribute__', '__getitem__', '__getnewargs__', '__getstate__', '__gt__', '__hash__', '__init__', '__init_subclass__', '__iter__', '__le__', '__len__', '__lt__', '__mod__', '__mul__', '__ne__', '__new__', '__reduce__', '__reduce_ex__', '__repr__', '__rmod__', '__rmul__', '__setattr__', '__sizeof__', '__str__', '__subclasshook__', 'capitalize', 'casefold', 'center', 'count', 'encode', 'endswith', 'expandtabs', 'find', 'format', 'format_map', 'index', 'isalnum', 'isalpha', 'isascii', 'isdecimal', 'isdigit', 'isidentifier', 'islower', 'isnumeric', 'isprintable', 'isspace', 'istitle', 'isupper', 'join', 'ljust', 'lower', 'lstrip', 'maketrans', 'partition', 'removeprefix', 'removesuffix', 'replace', 'rfind', 'rindex', 'rjust', 'rpartition', 'rsplit', 'rstrip', 'split', 'splitlines', 'startswith', 'strip', 'swapcase', 'title', 'translate', 'upper', 'zfill']\n"
     ]
    }
   ],
   "source": [
    "print(dir(x))"
   ]
  },
  {
   "cell_type": "code",
   "execution_count": 21,
   "id": "3a683439",
   "metadata": {},
   "outputs": [
    {
     "data": {
      "text/plain": [
       "'PYTHON'"
      ]
     },
     "execution_count": 21,
     "metadata": {},
     "output_type": "execute_result"
    }
   ],
   "source": [
    "x.upper() #converts to uppercase"
   ]
  },
  {
   "cell_type": "code",
   "execution_count": 24,
   "id": "77f8f29f",
   "metadata": {},
   "outputs": [
    {
     "data": {
      "text/plain": [
       "'fgjsdvbjhg'"
      ]
     },
     "execution_count": 24,
     "metadata": {},
     "output_type": "execute_result"
    }
   ],
   "source": [
    "x='fgjSdvbjhg'\n",
    "\n",
    "x.lower() #converts to lowercase"
   ]
  },
  {
   "cell_type": "markdown",
   "id": "cab60d52",
   "metadata": {},
   "source": [
    "### String methods"
   ]
  },
  {
   "cell_type": "code",
   "execution_count": 25,
   "id": "0fcdb80d",
   "metadata": {},
   "outputs": [],
   "source": [
    "a='kaccha papad pakka papad'"
   ]
  },
  {
   "cell_type": "markdown",
   "id": "e181b41d",
   "metadata": {},
   "source": [
    "#### Upper\n",
    "##### Strings are immutable"
   ]
  },
  {
   "cell_type": "code",
   "execution_count": 35,
   "id": "2672d113",
   "metadata": {},
   "outputs": [
    {
     "name": "stdout",
     "output_type": "stream",
     "text": [
      "kaccha papad pakka papad\n",
      "KACCHA PAPAD PAKKA PAPAD\n"
     ]
    }
   ],
   "source": [
    "print(a)\n",
    "au = a.upper()\n",
    "print(au)"
   ]
  },
  {
   "cell_type": "code",
   "execution_count": 36,
   "id": "9eded03c",
   "metadata": {},
   "outputs": [
    {
     "name": "stdout",
     "output_type": "stream",
     "text": [
      "4584451936\n",
      "4584834672\n"
     ]
    }
   ],
   "source": [
    "print(id(a))\n",
    "print(id(au)) #strings are immutable i.e. cannot be changed or modified"
   ]
  },
  {
   "cell_type": "markdown",
   "id": "4adb86b6",
   "metadata": {},
   "source": [
    "* strings are immutablde, the resulting strings from string methods have a new memory location\n",
    "* In order to use these strings, we need to reassign it to a variable"
   ]
  },
  {
   "cell_type": "markdown",
   "id": "39173043",
   "metadata": {},
   "source": [
    "#### Lower"
   ]
  },
  {
   "cell_type": "code",
   "execution_count": 37,
   "id": "884affb7",
   "metadata": {},
   "outputs": [
    {
     "name": "stdout",
     "output_type": "stream",
     "text": [
      "kaccha papad pakka papad\n"
     ]
    }
   ],
   "source": [
    "al= au.lower()\n",
    "print(al)"
   ]
  },
  {
   "cell_type": "markdown",
   "id": "22836584",
   "metadata": {},
   "source": [
    "#### Capitalize"
   ]
  },
  {
   "cell_type": "code",
   "execution_count": 40,
   "id": "05519ff9",
   "metadata": {},
   "outputs": [
    {
     "name": "stdout",
     "output_type": "stream",
     "text": [
      "Kaccha papad pakka papad\n"
     ]
    }
   ],
   "source": [
    "ac= al.capitalize()\n",
    "print(ac)"
   ]
  },
  {
   "cell_type": "markdown",
   "id": "c539a450",
   "metadata": {},
   "source": [
    "#### Title"
   ]
  },
  {
   "cell_type": "code",
   "execution_count": 41,
   "id": "3ff8e965",
   "metadata": {},
   "outputs": [
    {
     "name": "stdout",
     "output_type": "stream",
     "text": [
      "Kaccha Papad Pakka Papad\n"
     ]
    }
   ],
   "source": [
    "at= al.title()\n",
    "print(at) #every word starts with capital letter"
   ]
  },
  {
   "cell_type": "code",
   "execution_count": 42,
   "id": "44592031",
   "metadata": {},
   "outputs": [
    {
     "data": {
      "text/plain": [
       "'123Abs 567Ngchy'"
      ]
     },
     "execution_count": 42,
     "metadata": {},
     "output_type": "execute_result"
    }
   ],
   "source": [
    "'123Abs 567ngchy'.title()"
   ]
  },
  {
   "cell_type": "markdown",
   "id": "248a022d",
   "metadata": {},
   "source": [
    "#### Swapcase"
   ]
  },
  {
   "cell_type": "code",
   "execution_count": 45,
   "id": "41d8bc55",
   "metadata": {},
   "outputs": [
    {
     "data": {
      "text/plain": [
       "'kACCHA pAPAD pAKKA pAPAD'"
      ]
     },
     "execution_count": 45,
     "metadata": {},
     "output_type": "execute_result"
    }
   ],
   "source": [
    "asc= at.swapcase()\n",
    "asc"
   ]
  },
  {
   "cell_type": "markdown",
   "id": "4328b3d0",
   "metadata": {},
   "source": [
    "#### Casefold\n",
    "* casefold acts on unicode level and lower case acts on ascii level."
   ]
  },
  {
   "cell_type": "code",
   "execution_count": 46,
   "id": "ecc6ca44",
   "metadata": {},
   "outputs": [
    {
     "name": "stdout",
     "output_type": "stream",
     "text": [
      "german ss is ß\n",
      "german ss is ss\n"
     ]
    }
   ],
   "source": [
    "g = 'German ss is ß'\n",
    "print(g.lower())\n",
    "print(g.casefold())"
   ]
  },
  {
   "cell_type": "markdown",
   "id": "7eb9d507",
   "metadata": {},
   "source": [
    "#### Task (C)"
   ]
  },
  {
   "cell_type": "code",
   "execution_count": 9,
   "id": "3f252fb8",
   "metadata": {},
   "outputs": [
    {
     "name": "stdout",
     "output_type": "stream",
     "text": [
      "lufituaeb\n",
      "beautifulday\n",
      "yduiue\n"
     ]
    }
   ],
   "source": [
    "a='beautiful'\n",
    "b='day'\n",
    "\n",
    "#reverse string\n",
    "print(a[::-1])\n",
    " \n",
    "#concatination of two strings\n",
    "c=a+b\n",
    "print(c)\n",
    "\n",
    "#\n",
    "print((c)[::-2])\n"
   ]
  },
  {
   "cell_type": "code",
   "execution_count": null,
   "id": "b858b4e3",
   "metadata": {},
   "outputs": [],
   "source": []
  }
 ],
 "metadata": {
  "kernelspec": {
   "display_name": "Python 3 (ipykernel)",
   "language": "python",
   "name": "python3"
  },
  "language_info": {
   "codemirror_mode": {
    "name": "ipython",
    "version": 3
   },
   "file_extension": ".py",
   "mimetype": "text/x-python",
   "name": "python",
   "nbconvert_exporter": "python",
   "pygments_lexer": "ipython3",
   "version": "3.11.5"
  }
 },
 "nbformat": 4,
 "nbformat_minor": 5
}
